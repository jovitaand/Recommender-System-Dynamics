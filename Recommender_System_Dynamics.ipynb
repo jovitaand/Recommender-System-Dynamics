{
  "nbformat": 4,
  "nbformat_minor": 0,
  "metadata": {
    "colab": {
      "provenance": [],
      "include_colab_link": true
    },
    "kernelspec": {
      "name": "python3",
      "display_name": "Python 3"
    },
    "language_info": {
      "name": "python"
    }
  },
  "cells": [
    {
      "cell_type": "markdown",
      "metadata": {
        "id": "view-in-github",
        "colab_type": "text"
      },
      "source": [
        "<a href=\"https://colab.research.google.com/github/jovitaand/Recommender-System-Dynamics/blob/main/Recommender_System_Dynamics.ipynb\" target=\"_parent\"><img src=\"https://colab.research.google.com/assets/colab-badge.svg\" alt=\"Open In Colab\"/></a>"
      ]
    },
    {
      "cell_type": "markdown",
      "source": [
        "# Recommender System Dynamics\n",
        "## YouTube's Recommendation Ecosystem\n",
        "\n",
        "The goal of this activity is to help us explore how YouTube curates content feeds, tackles the \"cold start problem,\" and potentially contributes to the formation of \"filter bubbles.\"\n",
        "\n",
        "We'll be using YouTube in incognito mode to simulate a new user experience and observe how the system responds to our interactions.\n",
        "\n",
        "### Part 1: Setting the Stage\n",
        "YouTube relies heavily on recommendation algorithms to connect users with content. These algorithms play a major role in shaping what people watch on the platform.\n",
        "\n",
        "Incognito mode helps create a fresh browsing environment which can simulate a new user, so we can recreate the cold start problem from lecture.\n",
        "\n",
        "\n",
        "### Part 2: YouTube Exploration\n",
        "Follow these steps to complete the assignment:\n",
        "\n",
        "1. Review this report to learn more about YouTube's reccomendation system works: https://blog.youtube/inside-youtube/on-youtubes-recommendation-system/\n",
        "\n",
        "2. Launch your web browser and open YouTube in incognito mode.\n",
        "\n",
        "3. Spend some time browsing YouTube. Pay attention to the content that appears on your homepage and the \"Up Next\" panel as you watch videos. Consider the following questions as you explore: <br>\n",
        "\n",
        "○ What do you see on your homepage? What types of videos are recommended, and what categories are emphasized?\n"
      ],
      "metadata": {
        "id": "llB8czh1g2qC"
      }
    },
    {
      "cell_type": "markdown",
      "source": [
        "[YOUR COMMENT]\n",
        "\n",
        "On the homepage, there is typically a mix of trending videos, regionally popular content, and broadly appealing categories such as music, sports, gaming, and news. The emphasis seems to be on content that has mass appeal to a general audience, catering to new users or users with no prior interaction history."
      ],
      "metadata": {
        "id": "LmqWAqq3SBPA"
      }
    },
    {
      "cell_type": "markdown",
      "source": [
        "○ Can you identify any strategies YouTube might be using to address the cold start problem, based on what you're seeing? For example, do you see recommendations based on broad categories or popular videos? Does YouTube seem to be using a mix of strategies?\n"
      ],
      "metadata": {
        "id": "2yi-uWyeSEPr"
      }
    },
    {
      "cell_type": "markdown",
      "source": [
        "[YOUR COMMENT]\n",
        "\n",
        "YouTube addresses the cold start problem by leveraging multiple strategies:\n",
        "\n",
        "Highlighting trending content and popular videos that are likely to engage a wide audience.\n",
        "Offering broad categories to appeal to varied interests, such as entertainment, education, and sports.\n",
        "Showcasing videos from authoritative creators and verified channels to establish trust and relevance."
      ],
      "metadata": {
        "id": "DK6B45rCSGtA"
      }
    },
    {
      "cell_type": "markdown",
      "source": [
        "○ As you interact with videos – clicking, watching partially, or watching completely – how does the recommended content change? Note specific instances where the recommendations shift based on your actions. How might YouTube be using signals like clicks, watch time, likes, dislikes, and shares to personalize your feed?\n"
      ],
      "metadata": {
        "id": "ukKq6F5GSIyT"
      }
    },
    {
      "cell_type": "markdown",
      "source": [
        "[YOUR COMMENT]\n",
        "\n",
        "As interactions increase, the system dynamically adjusts recommendations to align with observed behavior. For instance:\n",
        "\n",
        "Clicking on a cooking tutorial might lead to more food-related content, such as recipes or chef interviews.\n",
        "Extended watch time on a particular video signals strong interest, prompting similar recommendations.\n",
        "Likes, shares, and even dislikes refine the algorithm’s understanding of user preferences and influence subsequent suggestions."
      ],
      "metadata": {
        "id": "ACwYbSJOSKgo"
      }
    },
    {
      "cell_type": "markdown",
      "source": [
        "○ Do you start noticing a pattern in the recommended content? Does it seem like the recommendations are becoming more focused on certain topics or channels as you continue browsing? How might this relate to the concept of a filter bubble?\n"
      ],
      "metadata": {
        "id": "Z051TSMiSLwR"
      }
    },
    {
      "cell_type": "markdown",
      "source": [
        "[YOUR COMMENT]\n",
        "\n",
        "As interactions increase, the system Yes, as browsing continues, the recommendations become increasingly focused on specific topics or channels. This narrowing aligns with the concept of a filter bubble, where users are predominantly exposed to content that reinforces their existing preferences. While this personalization enhances relevance, it may limit exposure to diverse viewpoints or interests."
      ],
      "metadata": {
        "id": "71c23Dy3SNCq"
      }
    },
    {
      "cell_type": "markdown",
      "source": [
        "○ Are the recommended videos generally from sources that seem credible or authoritative? What clues or signals might YouTube be using to determine authoritativeness?\n",
        "\n"
      ],
      "metadata": {
        "id": "zP_zDnuuSONF"
      }
    },
    {
      "cell_type": "markdown",
      "source": [
        "[YOUR COMMENT]\n",
        "\n",
        "Most recommended videos appear to be from credible sources, such as verified channels or creators with large followings. YouTube likely uses signals like:\n",
        "\n",
        "Channel verification status (blue checkmarks).\n",
        "Engagement metrics, such as high view counts and likes-to-dislikes ratios.\n",
        "Historical content quality and adherence to community guidelines."
      ],
      "metadata": {
        "id": "UuREBJd2SQHY"
      }
    },
    {
      "cell_type": "markdown",
      "source": [
        "○ Evaluate the content feed you were exposed to during the activity. Was the recommended content diverse and informative? Did you encounter any potentially harmful, misleading, or biased information? Consider the factors that might have influenced the content you saw.\n"
      ],
      "metadata": {
        "id": "n3n0JUJ_SRfp"
      }
    },
    {
      "cell_type": "markdown",
      "source": [
        "[YOUR COMMENT]\n",
        "\n",
        "Initially, the content feed was diverse, covering various topics and categories. However, as interactions personalized the feed, it became more focused, reducing diversity. While most content was informative, there is a risk of encountering misleading or biased material, particularly if the system prioritizes engagement-driven sensational content. Factors like user behavior, trending topics, and algorithmic biases likely influenced the feed."
      ],
      "metadata": {
        "id": "ge8VKH2qSSxM"
      }
    },
    {
      "cell_type": "markdown",
      "source": [
        "\n",
        "○ Do you feel in control of your YouTube experience? What features or changes (if any) would you like to see implemented to enhance your agency and ensure you're exposed to diverse content?"
      ],
      "metadata": {
        "id": "gOHCX4gtST3q"
      }
    },
    {
      "cell_type": "markdown",
      "source": [
        "[YOUR COMMENT]\n",
        "\n",
        "While users can influence their feed through searches, likes, and subscriptions, the algorithm heavily dictates the overall experience. To enhance agency and promote diverse content, YouTube could implement:\n",
        "\n",
        "A customization feature allowing users to set preferences for categories or types of content.\n",
        "Greater algorithm transparency to help users understand why specific videos are recommended.\n",
        "A diversify feed option to encourage exploration of unfamiliar topics and reduce the filter bubble effect."
      ],
      "metadata": {
        "id": "GbvB3OXlSUYA"
      }
    }
  ]
}